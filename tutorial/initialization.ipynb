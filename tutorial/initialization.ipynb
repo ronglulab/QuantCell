{
 "cells": [
  {
   "cell_type": "markdown",
   "metadata": {},
   "source": [
    "# CODEX Generation"
   ]
  },
  {
   "cell_type": "markdown",
   "metadata": {},
   "source": [
    "### Imports (run first)"
   ]
  },
  {
   "cell_type": "code",
   "execution_count": null,
   "metadata": {},
   "outputs": [],
   "source": [
    "import pandas as pd\n",
    "import os\n",
    "import warnings\n",
    "\n",
    "os.chdir('/home/LULAB/wboohar/CODEX/data_processing/code')\n",
    "from codex_project import codex_project, replace_marker_match_centroids, read_marker_combos, get_marker_list\n",
    "warnings.filterwarnings('ignore')"
   ]
  },
  {
   "cell_type": "markdown",
   "metadata": {},
   "source": [
    "### Parameters\n",
    "annotations_path  \n",
    "> .json annotations list\n",
    "\n",
    "base_dir  \n",
    "> location of base directory, should include raw_data folder w/ project folders inside\n",
    "\n",
    "project_name\n",
    "> name of project, will create a folder with this name in the base directory\n",
    "\n",
    "project_folders\n",
    "> list of folders with marker data inside to be used for this project (names of folders are not used)\n",
    "\n",
    "sample_labels\n",
    "> dict relating project_folders names to a label, will be in 'Parent' column (typically this is used to show mouse information)"
   ]
  },
  {
   "cell_type": "code",
   "execution_count": null,
   "metadata": {},
   "outputs": [],
   "source": [
    "annotations_path = '/store/Projects/wboohar/PhenoCycler/annotation_strategies/marker_combos_062525_updated_verified.json'   \n",
    "base_dir = '/store/Projects/wboohar/PhenoCycler' \n",
    "project_name = 'QuantCellPaperO3'\n",
    "project_path = f'{base_dir}/{project_name}'\n",
    "data_path = f'{base_dir}/raw_data'\n",
    "\n",
    "project_folders = ['QuantCellPaperO3']\n",
    "\n",
    "sample_labels = {'QuantCellPaperO3':'QuantCellPaperO3'}\n"
   ]
  },
  {
   "cell_type": "markdown",
   "metadata": {},
   "source": [
    "Initialize the codex_project object from the marker .csv files. If there are multiple projects together, you can label them using the name of the folder in which all of the .csv files are found in."
   ]
  },
  {
   "cell_type": "code",
   "execution_count": null,
   "metadata": {},
   "outputs": [],
   "source": [
    "os.makedirs(project_path, exist_ok=True)\n",
    "\n",
    "codex = codex_project()\n",
    "codex.initialize(data_path=data_path, folders=project_folders, project_name=project_name, annotation_strategy_path=annotations_path)\n",
    "codex.set_sample_labels(sample_labels)"
   ]
  },
  {
   "cell_type": "markdown",
   "metadata": {},
   "source": [
    "Ensure that all of the required .csv files for every marker in marker_combos has been found. If any are not present or there are any extra, it will state them here."
   ]
  },
  {
   "cell_type": "code",
   "execution_count": null,
   "metadata": {},
   "outputs": [],
   "source": [
    "codex.verify_marker_annotations()"
   ]
  },
  {
   "cell_type": "markdown",
   "metadata": {},
   "source": [
    "Annotate cell types using conventional strategy. Any cell matching more than one cell type will be left as \"Other\".\n",
    "\n",
    "drop_missing params:\n",
    " - max_missing_per_row: int = 2 # drop columns with more than X NAs\n",
    " - max_missing_per_col: int = 100 # drop rows with more than X NAs\n",
    " - drop_axis=0 # if there are any remaining NAs, 0 to drop cells (rows), 1 to drop features (columns)"
   ]
  },
  {
   "cell_type": "code",
   "execution_count": null,
   "metadata": {},
   "outputs": [],
   "source": [
    "codex.annotate()\n",
    "codex.drop_missing(max_missing_per_col=1000000)"
   ]
  },
  {
   "cell_type": "markdown",
   "metadata": {},
   "source": [
    "Sanity check to make sure every cell type defined is present at last once"
   ]
  },
  {
   "cell_type": "code",
   "execution_count": null,
   "metadata": {},
   "outputs": [],
   "source": [
    "assert(len(codex.codex.loc[:, 'cell_type'].unique()) == len(codex._marker_combos.keys())+1)"
   ]
  },
  {
   "cell_type": "markdown",
   "metadata": {},
   "source": [
    "If spatial location is specified and you have different samples you want to keep separate spatially, do that here.\n",
    "\n",
    "First, DBSCAN is used to find all clusters. Use visualize_sectioning to see if you need to adjust eps"
   ]
  },
  {
   "cell_type": "code",
   "execution_count": null,
   "metadata": {},
   "outputs": [],
   "source": [
    "codex.section_samples(eps=500)"
   ]
  },
  {
   "cell_type": "code",
   "execution_count": null,
   "metadata": {},
   "outputs": [],
   "source": [
    "#codex.override_sectioning() # replace all sections with the name of the data folder + _0, use for IF images\n",
    "codex.visualize_sectioning()"
   ]
  },
  {
   "cell_type": "markdown",
   "metadata": {},
   "source": [
    "Verify every cell is assigned to a section"
   ]
  },
  {
   "cell_type": "code",
   "execution_count": null,
   "metadata": {},
   "outputs": [],
   "source": [
    "codex.verify_sectioning()"
   ]
  },
  {
   "cell_type": "markdown",
   "metadata": {},
   "source": [
    "Save to .csv file, it is now ready for QuantCell"
   ]
  },
  {
   "cell_type": "code",
   "execution_count": null,
   "metadata": {},
   "outputs": [],
   "source": [
    "codex.save_csv(f'{project_path}/codex_conventional_{project_name}.csv')"
   ]
  },
  {
   "cell_type": "markdown",
   "metadata": {},
   "source": [
    "# Load in\n",
    "Includes all data except the folders in which the raw data is"
   ]
  },
  {
   "cell_type": "code",
   "execution_count": null,
   "metadata": {},
   "outputs": [],
   "source": [
    "other_codex = codex_project()\n",
    "other_codex.read_csv(f'{project_path}/codex_conventional_{project_name}.csv', project_name=project_name)\n",
    "other_codex.read_annotation_strategy(annotations_path)"
   ]
  }
 ],
 "metadata": {
  "kernelspec": {
   "display_name": "Python 3 (ipykernel)",
   "language": "python",
   "name": "python3"
  },
  "language_info": {
   "codemirror_mode": {
    "name": "ipython",
    "version": 3
   },
   "file_extension": ".py",
   "mimetype": "text/x-python",
   "name": "python",
   "nbconvert_exporter": "python",
   "pygments_lexer": "ipython3",
   "version": "3.11.0"
  }
 },
 "nbformat": 4,
 "nbformat_minor": 2
}
