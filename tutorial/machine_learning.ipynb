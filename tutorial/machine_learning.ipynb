{
 "cells": [
  {
   "cell_type": "code",
   "execution_count": 9,
   "metadata": {},
   "outputs": [],
   "source": [
    "import pandas as pd\n",
    "import os\n",
    "import warnings\n",
    "import joblib\n",
    "\n",
    "os.chdir('/home/LULAB/wboohar/CODEX/data_processing/code')\n",
    "from quantcell import quantcell_project\n",
    "warnings.filterwarnings('ignore')\n",
    "\n",
    "from sklearn.ensemble import RandomForestClassifier"
   ]
  },
  {
   "cell_type": "markdown",
   "metadata": {},
   "source": [
    "Same parameters as in initialization.ipynb\n",
    " - annotations_path: a .json file corresponding to the marker combos, see GitHub or included sample_data for expected format\n",
    " - base_dir: folder where output folder will be created\n",
    " - project_name: name of output folder"
   ]
  },
  {
   "cell_type": "code",
   "execution_count": null,
   "metadata": {},
   "outputs": [],
   "source": [
    "annotations_path = '/store/Projects/wboohar/PhenoCycler/annotation_strategies/marker_combos_062525_updated_verified.json'   \n",
    "base_dir = '/store/Projects/wboohar/PhenoCycler' \n",
    "project_name = 'QuantCellPaperO3'\n",
    "project_path = f'{base_dir}/{project_name}'"
   ]
  },
  {
   "cell_type": "markdown",
   "metadata": {},
   "source": [
    "First we will initialize a QuantCell project object with the given parameters. It will load in expression data created by the initialization.ipynb notebook."
   ]
  },
  {
   "cell_type": "code",
   "execution_count": 12,
   "metadata": {},
   "outputs": [
    {
     "name": "stdout",
     "output_type": "stream",
     "text": [
      "Initializing project QuantCellPaperO3 at /store/Projects/wboohar/PhenoCycler\n"
     ]
    }
   ],
   "source": [
    "project = quantcell_project()\n",
    "project.initialize(base_path=base_dir, project_name=project_name)"
   ]
  },
  {
   "cell_type": "markdown",
   "metadata": {},
   "source": [
    "Next, we preprocess the data for machine learning. See the paper for exact details."
   ]
  },
  {
   "cell_type": "code",
   "execution_count": 13,
   "metadata": {},
   "outputs": [],
   "source": [
    "project.process_data()"
   ]
  },
  {
   "cell_type": "code",
   "execution_count": null,
   "metadata": {},
   "outputs": [],
   "source": [
    "if not os.path.exists(f'{project_path}/model_selection/RandomForestClassifier_best_params_macro.joblib'):\n",
    "    # Handle the case where hyperparameter tuning is not done and use the base classifier\n",
    "    best_params = {}\n",
    "else:\n",
    "    best_params = joblib.load(f'{project_path}/model_selection/RandomForestClassifier_best_params_macro.joblib')\n",
    "\n",
    "classifier = RandomForestClassifier(\n",
    "    **best_params,\n",
    "    n_jobs=36,\n",
    "    random_state=project.random_seed\n",
    ")\n",
    "\n",
    "project.set_clf(classifier)"
   ]
  },
  {
   "cell_type": "code",
   "execution_count": 16,
   "metadata": {},
   "outputs": [],
   "source": [
    "project.fit()"
   ]
  },
  {
   "cell_type": "markdown",
   "metadata": {},
   "source": [
    "Choose a false discovery rate (FDR) cutoff <= 1. 1 is equivalent to not thresholding at all and just labeling every cell with the highest probability cell type."
   ]
  },
  {
   "cell_type": "code",
   "execution_count": 17,
   "metadata": {},
   "outputs": [],
   "source": [
    "project.relabel_unannotated(FDR_cutoff=0.05)"
   ]
  },
  {
   "cell_type": "markdown",
   "metadata": {},
   "source": [
    "Save the annotated cells to a .csv file in the output folder"
   ]
  },
  {
   "cell_type": "code",
   "execution_count": 22,
   "metadata": {},
   "outputs": [],
   "source": [
    "project.overwrite_codex()\n",
    "project.save_codex()"
   ]
  }
 ],
 "metadata": {
  "kernelspec": {
   "display_name": "lulab-python",
   "language": "python",
   "name": "python3"
  },
  "language_info": {
   "codemirror_mode": {
    "name": "ipython",
    "version": 3
   },
   "file_extension": ".py",
   "mimetype": "text/x-python",
   "name": "python",
   "nbconvert_exporter": "python",
   "pygments_lexer": "ipython3",
   "version": "3.11.0"
  }
 },
 "nbformat": 4,
 "nbformat_minor": 2
}
