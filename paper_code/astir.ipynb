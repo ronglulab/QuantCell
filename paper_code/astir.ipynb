{
 "cells": [
  {
   "cell_type": "code",
   "execution_count": 1,
   "id": "a7a01cfd",
   "metadata": {},
   "outputs": [],
   "source": [
    "from astir.data import from_csv_yaml\n",
    "import pandas as pd\n",
    "import time"
   ]
  },
  {
   "cell_type": "code",
   "execution_count": 4,
   "id": "f4e58bb3",
   "metadata": {},
   "outputs": [],
   "source": [
    "base_dir = '/Projects/wboohar/PhenoCycler'\n",
    "project_name = 'QuantCellPaper'\n",
    "\n",
    "project_path = f'{base_dir}/{project_name}'\n",
    "\n",
    "marker_combos = f'{project_path}/Astir/marker_combos.yaml'\n",
    "marker_data = f'{project_path}/Astir/marker_data.csv'"
   ]
  },
  {
   "cell_type": "code",
   "execution_count": 5,
   "id": "c53a4850",
   "metadata": {},
   "outputs": [],
   "source": [
    "ast = from_csv_yaml(marker_data, marker_combos)"
   ]
  },
  {
   "cell_type": "code",
   "execution_count": 6,
   "id": "023ee502",
   "metadata": {},
   "outputs": [
    {
     "name": "stderr",
     "output_type": "stream",
     "text": [
      "training restart 1/5: 100%|██████████| 5/5 [13.60s/epochs, current loss: 8577628.5] \n",
      "training restart 2/5: 100%|██████████| 5/5 [13.57s/epochs, current loss: 8575203.1] \n",
      "training restart 3/5: 100%|██████████| 5/5 [13.43s/epochs, current loss: 8577166.1] \n",
      "training restart 4/5: 100%|██████████| 5/5 [13.55s/epochs, current loss: 8566337.7] \n",
      "training restart 5/5: 100%|██████████| 5/5 [13.38s/epochs, current loss: 8557595.8] \n",
      "training restart (final):  14%|█▍        | 7/50 [15.48s/epochs, current loss: 8293229.9]\n"
     ]
    }
   ],
   "source": [
    "start = time.time()\n",
    "ast.fit_type()\n",
    "\n",
    "ast.get_celltypes().to_csv(f'{project_path}/Astir/astir_labels.csv')\n",
    "end = time.time()\n",
    "elapsed_time = end - start\n",
    "pd.Series(elapsed_time).to_csv(f'{project_path}/Astir/astir_time.csv')"
   ]
  }
 ],
 "metadata": {
  "kernelspec": {
   "display_name": "test_astir",
   "language": "python",
   "name": "python3"
  },
  "language_info": {
   "codemirror_mode": {
    "name": "ipython",
    "version": 3
   },
   "file_extension": ".py",
   "mimetype": "text/x-python",
   "name": "python",
   "nbconvert_exporter": "python",
   "pygments_lexer": "ipython3",
   "version": "3.13.5"
  }
 },
 "nbformat": 4,
 "nbformat_minor": 5
}
